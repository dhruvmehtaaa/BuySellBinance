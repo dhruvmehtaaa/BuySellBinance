{
  "nbformat": 4,
  "nbformat_minor": 0,
  "metadata": {
    "colab": {
      "name": "Untitled1.ipynb",
      "provenance": [],
      "collapsed_sections": [],
      "authorship_tag": "ABX9TyPmzJiDi+ibuwNxjOo9ea2g"
    },
    "kernelspec": {
      "name": "python3",
      "display_name": "Python 3"
    },
    "language_info": {
      "name": "python"
    }
  },
  "cells": [
    {
      "cell_type": "markdown",
      "source": [
        ""
      ],
      "metadata": {
        "id": "OxLIMFOvXOv4"
      }
    },
    {
      "cell_type": "code",
      "source": [
        "from binance import Client\n"
      ],
      "metadata": {
        "id": "gxGZXqGIY0TE"
      },
      "execution_count": null,
      "outputs": []
    },
    {
      "cell_type": "code",
      "source": [
        "import pandas as pd\n"
      ],
      "metadata": {
        "id": "l95oGgyRY_DA"
      },
      "execution_count": null,
      "outputs": []
    },
    {
      "cell_type": "code",
      "source": [
        "api_key=\"API_KEY\"\n",
        "api_secret=\"SECRET_KEY\""
      ],
      "metadata": {
        "id": "Ar79sz5QZIFZ"
      },
      "execution_count": null,
      "outputs": []
    },
    {
      "cell_type": "code",
      "source": [
        "client = Client(api_key,api_secret)"
      ],
      "metadata": {
        "id": "WhvvUSF2bSXw"
      },
      "execution_count": null,
      "outputs": []
    },
    {
      "cell_type": "code",
      "source": [
        "client.get_account()"
      ],
      "metadata": {
        "id": "6S9yeT7ecH3r"
      },
      "execution_count": null,
      "outputs": []
    },
    {
      "cell_type": "code",
      "source": [
        "pd.DataFrame(client.get_historical_klines('BTCUSDT','1m','30 m ago UTC'))"
      ],
      "metadata": {
        "id": "kj9vCCuycTEm"
      },
      "execution_count": null,
      "outputs": []
    },
    {
      "cell_type": "code",
      "source": [
        "def getminutedata(symbol,interval,lookback):\n",
        "  frame = pd.DataFrame(client.get_historical_klines(symbol,interval,lookback+' m ago UTC'))\n",
        "  frame= frame.iloc[:,:6]\n",
        "  frame.columns=['Time','Open','High','Low','Close','Volume']  \n",
        "  frame = frame.set_index('Time')\n",
        "  frame.index = pd.to_datetime(frame.index,unit='ms')\n",
        "  frame= frame.astype(float)\n",
        "  return frame\n",
        "\n"
      ],
      "metadata": {
        "id": "GVcJ8_aUcxO2"
      },
      "execution_count": null,
      "outputs": []
    },
    {
      "cell_type": "code",
      "source": [
        "test = getminutedata('BTCUSDT','1m','30')"
      ],
      "metadata": {
        "id": "-XlRTt3efO-H"
      },
      "execution_count": null,
      "outputs": []
    },
    {
      "cell_type": "code",
      "source": [
        "test.Open.plot()"
      ],
      "metadata": {
        "colab": {
          "base_uri": "https://localhost:8080/",
          "height": 296
        },
        "id": "8cCX9zkIfWpe",
        "outputId": "7431364e-372b-40f2-e446-5777abebde4c"
      },
      "execution_count": null,
      "outputs": [
        {
          "output_type": "execute_result",
          "data": {
            "text/plain": [
              "<matplotlib.axes._subplots.AxesSubplot at 0x7f4f09f11d90>"
            ]
          },
          "metadata": {},
          "execution_count": 40
        },
        {
          "output_type": "display_data",
          "data": {
            "image/png": "[encoded data removed]",
            "text/plain": [
              "<Figure size 432x288 with 1 Axes>"
            ]
          },
          "metadata": {
            "needs_background": "light"
          }
        }
      ]
    },
    {
      "cell_type": "code",
      "source": [
        "#buy if asset fell by more than 0.2% (random number for now) within last 30 min\n",
        "# sell if asset rises by more than 0.15%(min to make profit) or falls furether by 0.15%"
      ],
      "metadata": {
        "id": "WKVn8OeIgWYB"
      },
      "execution_count": null,
      "outputs": []
    },
    {
      "cell_type": "code",
      "source": [
        "def strategytest(symbol, qty, entried=False):\n",
        "  df = getminutedata(symbol,'1m','30')\n",
        "  cumulret = (df.Open.pct_change() +1).cumprod()-1\n",
        "  if not entried:\n",
        "    if cumulret[-1] < 0.002:\n",
        "      order=client.create_order(symbol=symbol, side='BUY', type='MARKET',quantity=qty)\n",
        "      print(order)\n",
        "      entried=True\n",
        "    else:\n",
        "      print('No Trade has been executed')\n",
        "  if entried:\n",
        "    while True:\n",
        "      df = getminutedata(symbol,'1m','30')\n",
        "      sincebuy = df.loc[df.index > pd.to_datetime(order['transactTime'],unit='ms')]\n",
        "      if len(sincebuy) > 0:\n",
        "        sincebuyret = (sincebuy.Open.pct_change() +1).cumprod()-1\n",
        "        if sincebuyret[-1] > 0.0015 or sincebuyret[-1] <-0.0015 :\n",
        "          order= client.create_order(symbol=symbol, side='SELL', type='MARKET',quantity=qty)\n",
        "          print(order)\n",
        "          break"
      ],
      "metadata": {
        "id": "BH2T7Io0gqsG"
      },
      "execution_count": null,
      "outputs": []
    },
    {
      "cell_type": "code",
      "source": [
        "strategytest('BTCBUSD',0.0004)"
      ],
      "metadata": {
        "colab": {
          "base_uri": "https://localhost:8080/"
        },
        "id": "fepvnMyejezI",
        "outputId": "795e6642-ca4a-4c87-84c7-35f90f762a09"
      },
      "execution_count": null,
      "outputs": [
        {
          "output_type": "stream",
          "name": "stdout",
          "text": [
            "No Trade has been executed\n"
          ]
        }
      ]
    },
    {
      "cell_type": "code",
      "source": [
        ""
      ],
      "metadata": {
        "id": "ElHYKFEBkA4n"
      },
      "execution_count": null,
      "outputs": []
    }
  ]
}
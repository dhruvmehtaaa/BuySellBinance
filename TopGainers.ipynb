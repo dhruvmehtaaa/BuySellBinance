{
  "nbformat": 4,
  "nbformat_minor": 0,
  "metadata": {
    "colab": {
      "name": "Untitled5.ipynb",
      "provenance": [],
      "authorship_tag": "ABX9TyNKmLucDoIiQkdKid1xkxXv"
    },
    "kernelspec": {
      "name": "python3",
      "display_name": "Python 3"
    },
    "language_info": {
      "name": "python"
    }
  },
  "cells": [
    {
      "cell_type": "code",
      "execution_count": 3,
      "metadata": {
        "id": "j1avaIyqRfgl"
      },
      "outputs": [],
      "source": [
        "import pandas as pd\n",
        "from tqdm import tqdm\n",
        "from binance.client import Client"
      ]
    },
    {
      "cell_type": "code",
      "source": [
        "client = Client()"
      ],
      "metadata": {
        "id": "Pmhc-MykX34f"
      },
      "execution_count": 4,
      "outputs": []
    },
    {
      "cell_type": "code",
      "source": [
        "info = client.get_exchange_info()"
      ],
      "metadata": {
        "id": "4_kLpFxHYX3w"
      },
      "execution_count": 5,
      "outputs": []
    },
    {
      "cell_type": "code",
      "source": [
        "info"
      ],
      "metadata": {
        "id": "0sKdsJdfYeAt"
      },
      "execution_count": null,
      "outputs": []
    },
    {
      "cell_type": "code",
      "source": [
        "symbols = [x['symbol'] for x in info['symbols']]"
      ],
      "metadata": {
        "id": "BSInDbo4Ye--"
      },
      "execution_count": 7,
      "outputs": []
    },
    {
      "cell_type": "code",
      "source": [
        "exclude = ['UP','DOWN','BEAR','BULL'] #exclude leveraged tokens"
      ],
      "metadata": {
        "id": "MOUTtGdCYyXQ"
      },
      "execution_count": 9,
      "outputs": []
    },
    {
      "cell_type": "code",
      "source": [
        "non_lev = [symbol for symbol in symbols if all(excludes not in symbol for excludes in exclude)]"
      ],
      "metadata": {
        "id": "LMyOAJMyY0hN"
      },
      "execution_count": 11,
      "outputs": []
    },
    {
      "cell_type": "code",
      "source": [
        "relevant = [symbol for symbol in non_lev if symbol.endswith('USDT')]"
      ],
      "metadata": {
        "id": "thCOhbbHZRLo"
      },
      "execution_count": 14,
      "outputs": []
    },
    {
      "cell_type": "code",
      "source": [
        "klines= {}"
      ],
      "metadata": {
        "id": "Xqn1JlDVZXgV"
      },
      "execution_count": 16,
      "outputs": []
    },
    {
      "cell_type": "code",
      "source": [
        "for symbol in tqdm(relevant):\n",
        "  klines[symbol] = client.get_historical_klines(symbol,'1m','1 hour ago UTC')"
      ],
      "metadata": {
        "colab": {
          "base_uri": "https://localhost:8080/"
        },
        "id": "PS2fOVNhZpDm",
        "outputId": "86bd7005-5001-478f-e276-cc3a41d79ebf"
      },
      "execution_count": 17,
      "outputs": [
        {
          "output_type": "stream",
          "name": "stderr",
          "text": [
            "100%|██████████| 326/326 [02:16<00:00,  2.40it/s]\n"
          ]
        }
      ]
    },
    {
      "cell_type": "code",
      "source": [
        ""
      ],
      "metadata": {
        "id": "ew1NtABdZ6lN"
      },
      "execution_count": 23,
      "outputs": []
    },
    {
      "cell_type": "code",
      "source": [
        "returns, symbols = [],[]\n",
        "\n",
        "for symbol in relevant:\n",
        "  if len(klines[symbol]) > 0:\n",
        "    cumret= (pd.DataFrame(klines[symbol])[4].astype(float).pct_change() + 1).prod() - 1\n",
        "    returns.append(cumret)\n",
        "    symbols.append(symbol)"
      ],
      "metadata": {
        "id": "vR0vUArjai6N"
      },
      "execution_count": 23,
      "outputs": []
    },
    {
      "cell_type": "code",
      "source": [
        "retdf = pd.DataFrame(returns, index=symbols, columns=['ret'])"
      ],
      "metadata": {
        "id": "x0l3xkHhbhT-"
      },
      "execution_count": 24,
      "outputs": []
    },
    {
      "cell_type": "code",
      "source": [
        "retdf.ret.nlargest(10)"
      ],
      "metadata": {
        "colab": {
          "base_uri": "https://localhost:8080/"
        },
        "id": "isMxfffybskV",
        "outputId": "7b329acb-4245-4744-d0bb-dc20421ff2ae"
      },
      "execution_count": 26,
      "outputs": [
        {
          "output_type": "execute_result",
          "data": {
            "text/plain": [
              "NULSUSDT     0.050922\n",
              "LUNAUSDT     0.025804\n",
              "DYDXUSDT     0.018133\n",
              "LINKUSDT     0.016313\n",
              "YFIIUSDT     0.015519\n",
              "NKNUSDT      0.014561\n",
              "XMRUSDT      0.014400\n",
              "THETAUSDT    0.013986\n",
              "COCOSUSDT    0.013568\n",
              "FARMUSDT     0.013409\n",
              "Name: ret, dtype: float64"
            ]
          },
          "metadata": {},
          "execution_count": 26
        }
      ]
    },
    {
      "cell_type": "code",
      "source": [
        ""
      ],
      "metadata": {
        "id": "TA_BRFfabtaV"
      },
      "execution_count": null,
      "outputs": []
    }
  ]
}
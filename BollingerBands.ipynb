{
  "nbformat": 4,
  "nbformat_minor": 0,
  "metadata": {
    "colab": {
      "name": "Untitled6.ipynb",
      "provenance": [],
      "authorship_tag": "ABX9TyN2tOO84TkyWJ6KXO6jx4xx"
    },
    "kernelspec": {
      "name": "python3",
      "display_name": "Python 3"
    },
    "language_info": {
      "name": "python"
    }
  },
  "cells": [
    {
      "cell_type": "code",
      "execution_count": 4,
      "metadata": {
        "id": "Kv9gW7S2coTC"
      },
      "outputs": [],
      "source": [
        "import yfinance as yf\n",
        "import numpy as np\n",
        "import matplotlib.pyplot as plt\n",
        "import pandas as pd"
      ]
    },
    {
      "cell_type": "code",
      "source": [
        "df= yf.download('ETH-USD', start= '2019-01-01')"
      ],
      "metadata": {
        "colab": {
          "base_uri": "https://localhost:8080/"
        },
        "id": "cSNtzeUXdBFk",
        "outputId": "2ed59f78-f837-4cd4-e65e-aae17e350011"
      },
      "execution_count": 105,
      "outputs": [
        {
          "output_type": "stream",
          "name": "stdout",
          "text": [
            "\r[*********************100%***********************]  1 of 1 completed\n"
          ]
        }
      ]
    },
    {
      "cell_type": "code",
      "source": [
        "df['SMA'] = df.Close.rolling(window=20).mean()"
      ],
      "metadata": {
        "id": "yrd3Zt2LdhL7"
      },
      "execution_count": 106,
      "outputs": []
    },
    {
      "cell_type": "code",
      "source": [
        "df['stddev'] = df.Close.rolling(window=20).std()"
      ],
      "metadata": {
        "id": "8tMtXAHQdiiK"
      },
      "execution_count": 107,
      "outputs": []
    },
    {
      "cell_type": "code",
      "source": [
        "df['Upper'] = df.SMA + 2*df.stddev\n",
        "df['Lower'] =df.SMA - 2*df.stddev "
      ],
      "metadata": {
        "id": "WpnZbQX4dsn-"
      },
      "execution_count": 108,
      "outputs": []
    },
    {
      "cell_type": "code",
      "source": [
        "df['Buy_Signal'] = np.where(df.Lower > df.Close, True, False)\n"
      ],
      "metadata": {
        "id": "RqiOxSYBd1Fn"
      },
      "execution_count": 109,
      "outputs": []
    },
    {
      "cell_type": "code",
      "source": [
        "df['Sell_Signal'] = np.where(df.Upper <df.Close, True, False)"
      ],
      "metadata": {
        "id": "OVlEvrLCeE8h"
      },
      "execution_count": 110,
      "outputs": []
    },
    {
      "cell_type": "code",
      "source": [
        "df = df.dropna()"
      ],
      "metadata": {
        "id": "RXIkPrcTeiS_"
      },
      "execution_count": 111,
      "outputs": []
    },
    {
      "cell_type": "code",
      "source": [
        "df"
      ],
      "metadata": {
        "colab": {
          "base_uri": "https://localhost:8080/",
          "height": 693
        },
        "id": "aaWDt-lmekTG",
        "outputId": "64f11283-ea8b-4594-f6ee-a19f605437e0"
      },
      "execution_count": 112,
      "outputs": [
        {
          "output_type": "execute_result",
          "data": {
            "text/html": [
              "\n",
              "  <div id=\"df-b3c93fc3-a233-4f4c-b671-04f48e9b1820\">\n",
              "    <div class=\"colab-df-container\">\n",
              "      <div>\n",
              "<style scoped>\n",
              "    .dataframe tbody tr th:only-of-type {\n",
              "        vertical-align: middle;\n",
              "    }\n",
              "\n",
              "    .dataframe tbody tr th {\n",
              "        vertical-align: top;\n",
              "    }\n",
              "\n",
              "    .dataframe thead th {\n",
              "        text-align: right;\n",
              "    }\n",
              "</style>\n",
              "<table border=\"1\" class=\"dataframe\">\n",
              "  <thead>\n",
              "    <tr style=\"text-align: right;\">\n",
              "      <th></th>\n",
              "      <th>Open</th>\n",
              "      <th>High</th>\n",
              "      <th>Low</th>\n",
              "      <th>Close</th>\n",
              "      <th>Adj Close</th>\n",
              "      <th>Volume</th>\n",
              "      <th>SMA</th>\n",
              "      <th>stddev</th>\n",
              "      <th>Upper</th>\n",
              "      <th>Lower</th>\n",
              "      <th>Buy_Signal</th>\n",
              "      <th>Sell_Signal</th>\n",
              "    </tr>\n",
              "    <tr>\n",
              "      <th>Date</th>\n",
              "      <th></th>\n",
              "      <th></th>\n",
              "      <th></th>\n",
              "      <th></th>\n",
              "      <th></th>\n",
              "      <th></th>\n",
              "      <th></th>\n",
              "      <th></th>\n",
              "      <th></th>\n",
              "      <th></th>\n",
              "      <th></th>\n",
              "      <th></th>\n",
              "    </tr>\n",
              "  </thead>\n",
              "  <tbody>\n",
              "    <tr>\n",
              "      <th>2019-01-20</th>\n",
              "      <td>124.632401</td>\n",
              "      <td>125.070389</td>\n",
              "      <td>118.702324</td>\n",
              "      <td>119.474831</td>\n",
              "      <td>119.474831</td>\n",
              "      <td>2964108269</td>\n",
              "      <td>136.413160</td>\n",
              "      <td>14.868274</td>\n",
              "      <td>166.149707</td>\n",
              "      <td>106.676612</td>\n",
              "      <td>False</td>\n",
              "      <td>False</td>\n",
              "    </tr>\n",
              "    <tr>\n",
              "      <th>2019-01-21</th>\n",
              "      <td>119.636459</td>\n",
              "      <td>119.715439</td>\n",
              "      <td>116.157440</td>\n",
              "      <td>117.157852</td>\n",
              "      <td>117.157852</td>\n",
              "      <td>2421720343</td>\n",
              "      <td>135.230082</td>\n",
              "      <td>15.429984</td>\n",
              "      <td>166.090050</td>\n",
              "      <td>104.370113</td>\n",
              "      <td>False</td>\n",
              "      <td>False</td>\n",
              "    </tr>\n",
              "    <tr>\n",
              "      <th>2019-01-22</th>\n",
              "      <td>117.110756</td>\n",
              "      <td>119.664345</td>\n",
              "      <td>114.676682</td>\n",
              "      <td>118.747551</td>\n",
              "      <td>118.747551</td>\n",
              "      <td>2552507405</td>\n",
              "      <td>133.415075</td>\n",
              "      <td>15.107780</td>\n",
              "      <td>163.630635</td>\n",
              "      <td>103.199514</td>\n",
              "      <td>False</td>\n",
              "      <td>False</td>\n",
              "    </tr>\n",
              "    <tr>\n",
              "      <th>2019-01-23</th>\n",
              "      <td>118.713814</td>\n",
              "      <td>119.422798</td>\n",
              "      <td>116.376648</td>\n",
              "      <td>117.452606</td>\n",
              "      <td>117.452606</td>\n",
              "      <td>2556952198</td>\n",
              "      <td>131.830955</td>\n",
              "      <td>15.033560</td>\n",
              "      <td>161.898075</td>\n",
              "      <td>101.763834</td>\n",
              "      <td>False</td>\n",
              "      <td>False</td>\n",
              "    </tr>\n",
              "    <tr>\n",
              "      <th>2019-01-24</th>\n",
              "      <td>117.462784</td>\n",
              "      <td>118.032104</td>\n",
              "      <td>116.006798</td>\n",
              "      <td>117.362885</td>\n",
              "      <td>117.362885</td>\n",
              "      <td>2520843420</td>\n",
              "      <td>129.970002</td>\n",
              "      <td>14.357477</td>\n",
              "      <td>158.684955</td>\n",
              "      <td>101.255049</td>\n",
              "      <td>False</td>\n",
              "      <td>False</td>\n",
              "    </tr>\n",
              "    <tr>\n",
              "      <th>...</th>\n",
              "      <td>...</td>\n",
              "      <td>...</td>\n",
              "      <td>...</td>\n",
              "      <td>...</td>\n",
              "      <td>...</td>\n",
              "      <td>...</td>\n",
              "      <td>...</td>\n",
              "      <td>...</td>\n",
              "      <td>...</td>\n",
              "      <td>...</td>\n",
              "      <td>...</td>\n",
              "      <td>...</td>\n",
              "    </tr>\n",
              "    <tr>\n",
              "      <th>2022-01-05</th>\n",
              "      <td>3794.269043</td>\n",
              "      <td>3842.059814</td>\n",
              "      <td>3456.745361</td>\n",
              "      <td>3550.386963</td>\n",
              "      <td>3550.386963</td>\n",
              "      <td>18061338502</td>\n",
              "      <td>3879.214709</td>\n",
              "      <td>163.483993</td>\n",
              "      <td>4206.182694</td>\n",
              "      <td>3552.246724</td>\n",
              "      <td>True</td>\n",
              "      <td>False</td>\n",
              "    </tr>\n",
              "    <tr>\n",
              "      <th>2022-01-06</th>\n",
              "      <td>3549.708984</td>\n",
              "      <td>3549.708984</td>\n",
              "      <td>3335.376709</td>\n",
              "      <td>3418.408203</td>\n",
              "      <td>3418.408203</td>\n",
              "      <td>24293791313</td>\n",
              "      <td>3856.160791</td>\n",
              "      <td>193.244623</td>\n",
              "      <td>4242.650036</td>\n",
              "      <td>3469.671546</td>\n",
              "      <td>True</td>\n",
              "      <td>False</td>\n",
              "    </tr>\n",
              "    <tr>\n",
              "      <th>2022-01-07</th>\n",
              "      <td>3417.837891</td>\n",
              "      <td>3420.461914</td>\n",
              "      <td>3117.381348</td>\n",
              "      <td>3193.210449</td>\n",
              "      <td>3193.210449</td>\n",
              "      <td>24494179209</td>\n",
              "      <td>3817.778308</td>\n",
              "      <td>241.552338</td>\n",
              "      <td>4300.882984</td>\n",
              "      <td>3334.673632</td>\n",
              "      <td>True</td>\n",
              "      <td>False</td>\n",
              "    </tr>\n",
              "    <tr>\n",
              "      <th>2022-01-08</th>\n",
              "      <td>3193.502441</td>\n",
              "      <td>3240.304443</td>\n",
              "      <td>3020.880859</td>\n",
              "      <td>3091.972656</td>\n",
              "      <td>3091.972656</td>\n",
              "      <td>16037732700</td>\n",
              "      <td>3776.247314</td>\n",
              "      <td>289.274452</td>\n",
              "      <td>4354.796218</td>\n",
              "      <td>3197.698410</td>\n",
              "      <td>True</td>\n",
              "      <td>False</td>\n",
              "    </tr>\n",
              "    <tr>\n",
              "      <th>2022-01-09</th>\n",
              "      <td>3084.958252</td>\n",
              "      <td>3142.332764</td>\n",
              "      <td>3077.477051</td>\n",
              "      <td>3124.814453</td>\n",
              "      <td>3124.814453</td>\n",
              "      <td>16513910784</td>\n",
              "      <td>3735.795813</td>\n",
              "      <td>320.912834</td>\n",
              "      <td>4377.621480</td>\n",
              "      <td>3093.970146</td>\n",
              "      <td>False</td>\n",
              "      <td>False</td>\n",
              "    </tr>\n",
              "  </tbody>\n",
              "</table>\n",
              "<p>1086 rows × 12 columns</p>\n",
              "</div>\n",
              "      <button class=\"colab-df-convert\" onclick=\"convertToInteractive('df-b3c93fc3-a233-4f4c-b671-04f48e9b1820')\"\n",
              "              title=\"Convert this dataframe to an interactive table.\"\n",
              "              style=\"display:none;\">\n",
              "        \n",
              "  <svg xmlns=\"http://www.w3.org/2000/svg\" height=\"24px\"viewBox=\"0 0 24 24\"\n",
              "       width=\"24px\">\n",
              "    <path d=\"M0 0h24v24H0V0z\" fill=\"none\"/>\n",
              "    <path d=\"M18.56 5.44l.94 2.06.94-2.06 2.06-.94-2.06-.94-.94-2.06-.94 2.06-2.06.94zm-11 1L8.5 8.5l.94-2.06 2.06-.94-2.06-.94L8.5 2.5l-.94 2.06-2.06.94zm10 10l.94 2.06.94-2.06 2.06-.94-2.06-.94-.94-2.06-.94 2.06-2.06.94z\"/><path d=\"M17.41 7.96l-1.37-1.37c-.4-.4-.92-.59-1.43-.59-.52 0-1.04.2-1.43.59L10.3 9.45l-7.72 7.72c-.78.78-.78 2.05 0 2.83L4 21.41c.39.39.9.59 1.41.59.51 0 1.02-.2 1.41-.59l7.78-7.78 2.81-2.81c.8-.78.8-2.07 0-2.86zM5.41 20L4 18.59l7.72-7.72 1.47 1.35L5.41 20z\"/>\n",
              "  </svg>\n",
              "      </button>\n",
              "      \n",
              "  <style>\n",
              "    .colab-df-container {\n",
              "      display:flex;\n",
              "      flex-wrap:wrap;\n",
              "      gap: 12px;\n",
              "    }\n",
              "\n",
              "    .colab-df-convert {\n",
              "      background-color: #E8F0FE;\n",
              "      border: none;\n",
              "      border-radius: 50%;\n",
              "      cursor: pointer;\n",
              "      display: none;\n",
              "      fill: #1967D2;\n",
              "      height: 32px;\n",
              "      padding: 0 0 0 0;\n",
              "      width: 32px;\n",
              "    }\n",
              "\n",
              "    .colab-df-convert:hover {\n",
              "      background-color: #E2EBFA;\n",
              "      box-shadow: 0px 1px 2px rgba(60, 64, 67, 0.3), 0px 1px 3px 1px rgba(60, 64, 67, 0.15);\n",
              "      fill: #174EA6;\n",
              "    }\n",
              "\n",
              "    [theme=dark] .colab-df-convert {\n",
              "      background-color: #3B4455;\n",
              "      fill: #D2E3FC;\n",
              "    }\n",
              "\n",
              "    [theme=dark] .colab-df-convert:hover {\n",
              "      background-color: #434B5C;\n",
              "      box-shadow: 0px 1px 3px 1px rgba(0, 0, 0, 0.15);\n",
              "      filter: drop-shadow(0px 1px 2px rgba(0, 0, 0, 0.3));\n",
              "      fill: #FFFFFF;\n",
              "    }\n",
              "  </style>\n",
              "\n",
              "      <script>\n",
              "        const buttonEl =\n",
              "          document.querySelector('#df-b3c93fc3-a233-4f4c-b671-04f48e9b1820 button.colab-df-convert');\n",
              "        buttonEl.style.display =\n",
              "          google.colab.kernel.accessAllowed ? 'block' : 'none';\n",
              "\n",
              "        async function convertToInteractive(key) {\n",
              "          const element = document.querySelector('#df-b3c93fc3-a233-4f4c-b671-04f48e9b1820');\n",
              "          const dataTable =\n",
              "            await google.colab.kernel.invokeFunction('convertToInteractive',\n",
              "                                                     [key], {});\n",
              "          if (!dataTable) return;\n",
              "\n",
              "          const docLinkHtml = 'Like what you see? Visit the ' +\n",
              "            '<a target=\"_blank\" href=https://colab.research.google.com/notebooks/data_table.ipynb>data table notebook</a>'\n",
              "            + ' to learn more about interactive tables.';\n",
              "          element.innerHTML = '';\n",
              "          dataTable['output_type'] = 'display_data';\n",
              "          await google.colab.output.renderOutput(dataTable, element);\n",
              "          const docLink = document.createElement('div');\n",
              "          docLink.innerHTML = docLinkHtml;\n",
              "          element.appendChild(docLink);\n",
              "        }\n",
              "      </script>\n",
              "    </div>\n",
              "  </div>\n",
              "  "
            ],
            "text/plain": [
              "                   Open         High  ...  Buy_Signal  Sell_Signal\n",
              "Date                                  ...                         \n",
              "2019-01-20   124.632401   125.070389  ...       False        False\n",
              "2019-01-21   119.636459   119.715439  ...       False        False\n",
              "2019-01-22   117.110756   119.664345  ...       False        False\n",
              "2019-01-23   118.713814   119.422798  ...       False        False\n",
              "2019-01-24   117.462784   118.032104  ...       False        False\n",
              "...                 ...          ...  ...         ...          ...\n",
              "2022-01-05  3794.269043  3842.059814  ...        True        False\n",
              "2022-01-06  3549.708984  3549.708984  ...        True        False\n",
              "2022-01-07  3417.837891  3420.461914  ...        True        False\n",
              "2022-01-08  3193.502441  3240.304443  ...        True        False\n",
              "2022-01-09  3084.958252  3142.332764  ...       False        False\n",
              "\n",
              "[1086 rows x 12 columns]"
            ]
          },
          "metadata": {},
          "execution_count": 112
        }
      ]
    },
    {
      "cell_type": "code",
      "source": [
        "plt.figure(figsize=(14,10))\n",
        "plt.plot(df[['Close','SMA','Upper','Lower']])\n",
        "plt.scatter(df.index[df.Buy_Signal], df[df.Buy_Signal].Close, marker='^', color='g')\n",
        "plt.scatter(df.index[df.Sell_Signal], df[df.Sell_Signal].Close, marker='v', color='r')\n",
        "plt.fill_between(df.index, df.Upper,df.Lower, color='grey', alpha=0.3)\n",
        "plt.legend(['Close','SMA','Upper','Lower'])\n",
        "plt.show()"
      ],
      "metadata": {
        "colab": {
          "base_uri": "https://localhost:8080/",
          "height": 581
        },
        "id": "PaevuekpezrP",
        "outputId": "1bd88cad-3956-4d96-cd48-2297bf7ae422"
      },
      "execution_count": 113,
      "outputs": [
        {
          "output_type": "display_data",
          "data": {
            "image/png": "[encoded data removed]",
            "text/plain": [
              "<Figure size 1008x720 with 1 Axes>"
            ]
          },
          "metadata": {
            "needs_background": "light"
          }
        }
      ]
    },
    {
      "cell_type": "code",
      "source": [
        "buys = []\n",
        "sells = []\n",
        "open_pos = False\n",
        "\n",
        "for i in range(len(df)):\n",
        "  if df.Lower[i] > df.Close[i]:\n",
        "    if open_pos == False:\n",
        "      buys.append(i)\n",
        "      open_pos = True\n",
        "  elif df.Upper[i] < df.Close[i]:\n",
        "    if open_pos:\n",
        "      sells.append(i)\n",
        "      open_pos = False\n",
        "      "
      ],
      "metadata": {
        "id": "xi1M9QaYfHyE"
      },
      "execution_count": 114,
      "outputs": []
    },
    {
      "cell_type": "code",
      "source": [
        "buys"
      ],
      "metadata": {
        "colab": {
          "base_uri": "https://localhost:8080/"
        },
        "id": "aoM3juC4hwMw",
        "outputId": "e61467b6-6b30-4e45-fda2-0d6d52154001"
      },
      "execution_count": 115,
      "outputs": [
        {
          "output_type": "execute_result",
          "data": {
            "text/plain": [
              "[9, 95, 172, 206, 276, 417, 594, 767, 850, 974, 1033]"
            ]
          },
          "metadata": {},
          "execution_count": 115
        }
      ]
    },
    {
      "cell_type": "code",
      "source": [
        "sells"
      ],
      "metadata": {
        "colab": {
          "base_uri": "https://localhost:8080/"
        },
        "id": "TBlVqOtshw_3",
        "outputId": "7d028c5e-6cea-4bbf-8415-6b3285665b8e"
      },
      "execution_count": 116,
      "outputs": [
        {
          "output_type": "execute_result",
          "data": {
            "text/plain": [
              "[21, 111, 197, 239, 351, 442, 631, 803, 922, 1004]"
            ]
          },
          "metadata": {},
          "execution_count": 116
        }
      ]
    },
    {
      "cell_type": "code",
      "source": [
        "plt.figure(figsize=(14,10))\n",
        "plt.plot(df[['Close','SMA','Upper','Lower']])\n",
        "plt.scatter(df.iloc[buys].index, df.iloc[buys].Close, marker='^', color='g')\n",
        "plt.scatter(df.iloc[sells].index, df.iloc[sells].Close, marker='v', color='r')\n",
        "plt.fill_between(df.index, df.Upper,df.Lower, color='grey', alpha=0.3)\n",
        "plt.legend(['Close','SMA','Upper','Lower'])\n",
        "plt.show()"
      ],
      "metadata": {
        "colab": {
          "base_uri": "https://localhost:8080/",
          "height": 581
        },
        "id": "MjHhi7MNhyTn",
        "outputId": "17203288-fdd3-4ec9-cf94-ce8bf58694b3"
      },
      "execution_count": 117,
      "outputs": [
        {
          "output_type": "display_data",
          "data": {
            "image/png": "[encoded data removed]",
            "text/plain": [
              "<Figure size 1008x720 with 1 Axes>"
            ]
          },
          "metadata": {
            "needs_background": "light"
          }
        }
      ]
    },
    {
      "cell_type": "code",
      "source": [
        "#BackTesting\n"
      ],
      "metadata": {
        "id": "5XMO9KUoiZNP"
      },
      "execution_count": 118,
      "outputs": []
    },
    {
      "cell_type": "code",
      "source": [
        "merged = pd.concat([df.iloc[buys].Close, df.iloc[sells].Close], axis=1)"
      ],
      "metadata": {
        "id": "jK_7AQd5ihHW"
      },
      "execution_count": 119,
      "outputs": []
    },
    {
      "cell_type": "code",
      "source": [
        "merged"
      ],
      "metadata": {
        "colab": {
          "base_uri": "https://localhost:8080/",
          "height": 739
        },
        "id": "n2NXwDuUi9tO",
        "outputId": "74265511-c25c-459c-d06e-f08ff0ee2611"
      },
      "execution_count": 120,
      "outputs": [
        {
          "output_type": "execute_result",
          "data": {
            "text/html": [
              "\n",
              "  <div id=\"df-fed8631e-83ea-4170-89c6-72caf2bcd40b\">\n",
              "    <div class=\"colab-df-container\">\n",
              "      <div>\n",
              "<style scoped>\n",
              "    .dataframe tbody tr th:only-of-type {\n",
              "        vertical-align: middle;\n",
              "    }\n",
              "\n",
              "    .dataframe tbody tr th {\n",
              "        vertical-align: top;\n",
              "    }\n",
              "\n",
              "    .dataframe thead th {\n",
              "        text-align: right;\n",
              "    }\n",
              "</style>\n",
              "<table border=\"1\" class=\"dataframe\">\n",
              "  <thead>\n",
              "    <tr style=\"text-align: right;\">\n",
              "      <th></th>\n",
              "      <th>Close</th>\n",
              "      <th>Close</th>\n",
              "    </tr>\n",
              "    <tr>\n",
              "      <th>Date</th>\n",
              "      <th></th>\n",
              "      <th></th>\n",
              "    </tr>\n",
              "  </thead>\n",
              "  <tbody>\n",
              "    <tr>\n",
              "      <th>2019-01-29</th>\n",
              "      <td>105.598213</td>\n",
              "      <td>NaN</td>\n",
              "    </tr>\n",
              "    <tr>\n",
              "      <th>2019-02-10</th>\n",
              "      <td>NaN</td>\n",
              "      <td>124.806488</td>\n",
              "    </tr>\n",
              "    <tr>\n",
              "      <th>2019-04-25</th>\n",
              "      <td>154.459396</td>\n",
              "      <td>NaN</td>\n",
              "    </tr>\n",
              "    <tr>\n",
              "      <th>2019-05-11</th>\n",
              "      <td>NaN</td>\n",
              "      <td>194.304337</td>\n",
              "    </tr>\n",
              "    <tr>\n",
              "      <th>2019-07-11</th>\n",
              "      <td>268.704041</td>\n",
              "      <td>NaN</td>\n",
              "    </tr>\n",
              "    <tr>\n",
              "      <th>2019-08-05</th>\n",
              "      <td>NaN</td>\n",
              "      <td>234.215027</td>\n",
              "    </tr>\n",
              "    <tr>\n",
              "      <th>2019-08-14</th>\n",
              "      <td>186.607742</td>\n",
              "      <td>NaN</td>\n",
              "    </tr>\n",
              "    <tr>\n",
              "      <th>2019-09-16</th>\n",
              "      <td>NaN</td>\n",
              "      <td>197.113174</td>\n",
              "    </tr>\n",
              "    <tr>\n",
              "      <th>2019-10-23</th>\n",
              "      <td>162.402786</td>\n",
              "      <td>NaN</td>\n",
              "    </tr>\n",
              "    <tr>\n",
              "      <th>2020-01-06</th>\n",
              "      <td>NaN</td>\n",
              "      <td>144.304153</td>\n",
              "    </tr>\n",
              "    <tr>\n",
              "      <th>2020-03-12</th>\n",
              "      <td>112.347122</td>\n",
              "      <td>NaN</td>\n",
              "    </tr>\n",
              "    <tr>\n",
              "      <th>2020-04-06</th>\n",
              "      <td>NaN</td>\n",
              "      <td>169.135880</td>\n",
              "    </tr>\n",
              "    <tr>\n",
              "      <th>2020-09-05</th>\n",
              "      <td>335.260071</td>\n",
              "      <td>NaN</td>\n",
              "    </tr>\n",
              "    <tr>\n",
              "      <th>2020-10-12</th>\n",
              "      <td>NaN</td>\n",
              "      <td>387.731262</td>\n",
              "    </tr>\n",
              "    <tr>\n",
              "      <th>2021-02-25</th>\n",
              "      <td>1475.703735</td>\n",
              "      <td>NaN</td>\n",
              "    </tr>\n",
              "    <tr>\n",
              "      <th>2021-04-02</th>\n",
              "      <td>NaN</td>\n",
              "      <td>2143.225586</td>\n",
              "    </tr>\n",
              "    <tr>\n",
              "      <th>2021-05-19</th>\n",
              "      <td>2460.679199</td>\n",
              "      <td>NaN</td>\n",
              "    </tr>\n",
              "    <tr>\n",
              "      <th>2021-07-30</th>\n",
              "      <td>NaN</td>\n",
              "      <td>2466.961426</td>\n",
              "    </tr>\n",
              "    <tr>\n",
              "      <th>2021-09-20</th>\n",
              "      <td>2958.993408</td>\n",
              "      <td>NaN</td>\n",
              "    </tr>\n",
              "    <tr>\n",
              "      <th>2021-10-20</th>\n",
              "      <td>NaN</td>\n",
              "      <td>4155.992188</td>\n",
              "    </tr>\n",
              "    <tr>\n",
              "      <th>2021-11-18</th>\n",
              "      <td>4000.650879</td>\n",
              "      <td>NaN</td>\n",
              "    </tr>\n",
              "  </tbody>\n",
              "</table>\n",
              "</div>\n",
              "      <button class=\"colab-df-convert\" onclick=\"convertToInteractive('df-fed8631e-83ea-4170-89c6-72caf2bcd40b')\"\n",
              "              title=\"Convert this dataframe to an interactive table.\"\n",
              "              style=\"display:none;\">\n",
              "        \n",
              "  <svg xmlns=\"http://www.w3.org/2000/svg\" height=\"24px\"viewBox=\"0 0 24 24\"\n",
              "       width=\"24px\">\n",
              "    <path d=\"M0 0h24v24H0V0z\" fill=\"none\"/>\n",
              "    <path d=\"M18.56 5.44l.94 2.06.94-2.06 2.06-.94-2.06-.94-.94-2.06-.94 2.06-2.06.94zm-11 1L8.5 8.5l.94-2.06 2.06-.94-2.06-.94L8.5 2.5l-.94 2.06-2.06.94zm10 10l.94 2.06.94-2.06 2.06-.94-2.06-.94-.94-2.06-.94 2.06-2.06.94z\"/><path d=\"M17.41 7.96l-1.37-1.37c-.4-.4-.92-.59-1.43-.59-.52 0-1.04.2-1.43.59L10.3 9.45l-7.72 7.72c-.78.78-.78 2.05 0 2.83L4 21.41c.39.39.9.59 1.41.59.51 0 1.02-.2 1.41-.59l7.78-7.78 2.81-2.81c.8-.78.8-2.07 0-2.86zM5.41 20L4 18.59l7.72-7.72 1.47 1.35L5.41 20z\"/>\n",
              "  </svg>\n",
              "      </button>\n",
              "      \n",
              "  <style>\n",
              "    .colab-df-container {\n",
              "      display:flex;\n",
              "      flex-wrap:wrap;\n",
              "      gap: 12px;\n",
              "    }\n",
              "\n",
              "    .colab-df-convert {\n",
              "      background-color: #E8F0FE;\n",
              "      border: none;\n",
              "      border-radius: 50%;\n",
              "      cursor: pointer;\n",
              "      display: none;\n",
              "      fill: #1967D2;\n",
              "      height: 32px;\n",
              "      padding: 0 0 0 0;\n",
              "      width: 32px;\n",
              "    }\n",
              "\n",
              "    .colab-df-convert:hover {\n",
              "      background-color: #E2EBFA;\n",
              "      box-shadow: 0px 1px 2px rgba(60, 64, 67, 0.3), 0px 1px 3px 1px rgba(60, 64, 67, 0.15);\n",
              "      fill: #174EA6;\n",
              "    }\n",
              "\n",
              "    [theme=dark] .colab-df-convert {\n",
              "      background-color: #3B4455;\n",
              "      fill: #D2E3FC;\n",
              "    }\n",
              "\n",
              "    [theme=dark] .colab-df-convert:hover {\n",
              "      background-color: #434B5C;\n",
              "      box-shadow: 0px 1px 3px 1px rgba(0, 0, 0, 0.15);\n",
              "      filter: drop-shadow(0px 1px 2px rgba(0, 0, 0, 0.3));\n",
              "      fill: #FFFFFF;\n",
              "    }\n",
              "  </style>\n",
              "\n",
              "      <script>\n",
              "        const buttonEl =\n",
              "          document.querySelector('#df-fed8631e-83ea-4170-89c6-72caf2bcd40b button.colab-df-convert');\n",
              "        buttonEl.style.display =\n",
              "          google.colab.kernel.accessAllowed ? 'block' : 'none';\n",
              "\n",
              "        async function convertToInteractive(key) {\n",
              "          const element = document.querySelector('#df-fed8631e-83ea-4170-89c6-72caf2bcd40b');\n",
              "          const dataTable =\n",
              "            await google.colab.kernel.invokeFunction('convertToInteractive',\n",
              "                                                     [key], {});\n",
              "          if (!dataTable) return;\n",
              "\n",
              "          const docLinkHtml = 'Like what you see? Visit the ' +\n",
              "            '<a target=\"_blank\" href=https://colab.research.google.com/notebooks/data_table.ipynb>data table notebook</a>'\n",
              "            + ' to learn more about interactive tables.';\n",
              "          element.innerHTML = '';\n",
              "          dataTable['output_type'] = 'display_data';\n",
              "          await google.colab.output.renderOutput(dataTable, element);\n",
              "          const docLink = document.createElement('div');\n",
              "          docLink.innerHTML = docLinkHtml;\n",
              "          element.appendChild(docLink);\n",
              "        }\n",
              "      </script>\n",
              "    </div>\n",
              "  </div>\n",
              "  "
            ],
            "text/plain": [
              "                  Close        Close\n",
              "Date                                \n",
              "2019-01-29   105.598213          NaN\n",
              "2019-02-10          NaN   124.806488\n",
              "2019-04-25   154.459396          NaN\n",
              "2019-05-11          NaN   194.304337\n",
              "2019-07-11   268.704041          NaN\n",
              "2019-08-05          NaN   234.215027\n",
              "2019-08-14   186.607742          NaN\n",
              "2019-09-16          NaN   197.113174\n",
              "2019-10-23   162.402786          NaN\n",
              "2020-01-06          NaN   144.304153\n",
              "2020-03-12   112.347122          NaN\n",
              "2020-04-06          NaN   169.135880\n",
              "2020-09-05   335.260071          NaN\n",
              "2020-10-12          NaN   387.731262\n",
              "2021-02-25  1475.703735          NaN\n",
              "2021-04-02          NaN  2143.225586\n",
              "2021-05-19  2460.679199          NaN\n",
              "2021-07-30          NaN  2466.961426\n",
              "2021-09-20  2958.993408          NaN\n",
              "2021-10-20          NaN  4155.992188\n",
              "2021-11-18  4000.650879          NaN"
            ]
          },
          "metadata": {},
          "execution_count": 120
        }
      ]
    },
    {
      "cell_type": "code",
      "source": [
        "merged.columns = ['Buys','Sells']"
      ],
      "metadata": {
        "id": "h7ln52Dei-tz"
      },
      "execution_count": 121,
      "outputs": []
    },
    {
      "cell_type": "code",
      "source": [
        "merged"
      ],
      "metadata": {
        "colab": {
          "base_uri": "https://localhost:8080/",
          "height": 739
        },
        "id": "6MSakkHKjIqv",
        "outputId": "14b2a3c6-22dc-441f-bd6a-e74684f3e040"
      },
      "execution_count": 122,
      "outputs": [
        {
          "output_type": "execute_result",
          "data": {
            "text/html": [
              "\n",
              "  <div id=\"df-83985564-21ec-4222-92bf-72c71369fe8e\">\n",
              "    <div class=\"colab-df-container\">\n",
              "      <div>\n",
              "<style scoped>\n",
              "    .dataframe tbody tr th:only-of-type {\n",
              "        vertical-align: middle;\n",
              "    }\n",
              "\n",
              "    .dataframe tbody tr th {\n",
              "        vertical-align: top;\n",
              "    }\n",
              "\n",
              "    .dataframe thead th {\n",
              "        text-align: right;\n",
              "    }\n",
              "</style>\n",
              "<table border=\"1\" class=\"dataframe\">\n",
              "  <thead>\n",
              "    <tr style=\"text-align: right;\">\n",
              "      <th></th>\n",
              "      <th>Buys</th>\n",
              "      <th>Sells</th>\n",
              "    </tr>\n",
              "    <tr>\n",
              "      <th>Date</th>\n",
              "      <th></th>\n",
              "      <th></th>\n",
              "    </tr>\n",
              "  </thead>\n",
              "  <tbody>\n",
              "    <tr>\n",
              "      <th>2019-01-29</th>\n",
              "      <td>105.598213</td>\n",
              "      <td>NaN</td>\n",
              "    </tr>\n",
              "    <tr>\n",
              "      <th>2019-02-10</th>\n",
              "      <td>NaN</td>\n",
              "      <td>124.806488</td>\n",
              "    </tr>\n",
              "    <tr>\n",
              "      <th>2019-04-25</th>\n",
              "      <td>154.459396</td>\n",
              "      <td>NaN</td>\n",
              "    </tr>\n",
              "    <tr>\n",
              "      <th>2019-05-11</th>\n",
              "      <td>NaN</td>\n",
              "      <td>194.304337</td>\n",
              "    </tr>\n",
              "    <tr>\n",
              "      <th>2019-07-11</th>\n",
              "      <td>268.704041</td>\n",
              "      <td>NaN</td>\n",
              "    </tr>\n",
              "    <tr>\n",
              "      <th>2019-08-05</th>\n",
              "      <td>NaN</td>\n",
              "      <td>234.215027</td>\n",
              "    </tr>\n",
              "    <tr>\n",
              "      <th>2019-08-14</th>\n",
              "      <td>186.607742</td>\n",
              "      <td>NaN</td>\n",
              "    </tr>\n",
              "    <tr>\n",
              "      <th>2019-09-16</th>\n",
              "      <td>NaN</td>\n",
              "      <td>197.113174</td>\n",
              "    </tr>\n",
              "    <tr>\n",
              "      <th>2019-10-23</th>\n",
              "      <td>162.402786</td>\n",
              "      <td>NaN</td>\n",
              "    </tr>\n",
              "    <tr>\n",
              "      <th>2020-01-06</th>\n",
              "      <td>NaN</td>\n",
              "      <td>144.304153</td>\n",
              "    </tr>\n",
              "    <tr>\n",
              "      <th>2020-03-12</th>\n",
              "      <td>112.347122</td>\n",
              "      <td>NaN</td>\n",
              "    </tr>\n",
              "    <tr>\n",
              "      <th>2020-04-06</th>\n",
              "      <td>NaN</td>\n",
              "      <td>169.135880</td>\n",
              "    </tr>\n",
              "    <tr>\n",
              "      <th>2020-09-05</th>\n",
              "      <td>335.260071</td>\n",
              "      <td>NaN</td>\n",
              "    </tr>\n",
              "    <tr>\n",
              "      <th>2020-10-12</th>\n",
              "      <td>NaN</td>\n",
              "      <td>387.731262</td>\n",
              "    </tr>\n",
              "    <tr>\n",
              "      <th>2021-02-25</th>\n",
              "      <td>1475.703735</td>\n",
              "      <td>NaN</td>\n",
              "    </tr>\n",
              "    <tr>\n",
              "      <th>2021-04-02</th>\n",
              "      <td>NaN</td>\n",
              "      <td>2143.225586</td>\n",
              "    </tr>\n",
              "    <tr>\n",
              "      <th>2021-05-19</th>\n",
              "      <td>2460.679199</td>\n",
              "      <td>NaN</td>\n",
              "    </tr>\n",
              "    <tr>\n",
              "      <th>2021-07-30</th>\n",
              "      <td>NaN</td>\n",
              "      <td>2466.961426</td>\n",
              "    </tr>\n",
              "    <tr>\n",
              "      <th>2021-09-20</th>\n",
              "      <td>2958.993408</td>\n",
              "      <td>NaN</td>\n",
              "    </tr>\n",
              "    <tr>\n",
              "      <th>2021-10-20</th>\n",
              "      <td>NaN</td>\n",
              "      <td>4155.992188</td>\n",
              "    </tr>\n",
              "    <tr>\n",
              "      <th>2021-11-18</th>\n",
              "      <td>4000.650879</td>\n",
              "      <td>NaN</td>\n",
              "    </tr>\n",
              "  </tbody>\n",
              "</table>\n",
              "</div>\n",
              "      <button class=\"colab-df-convert\" onclick=\"convertToInteractive('df-83985564-21ec-4222-92bf-72c71369fe8e')\"\n",
              "              title=\"Convert this dataframe to an interactive table.\"\n",
              "              style=\"display:none;\">\n",
              "        \n",
              "  <svg xmlns=\"http://www.w3.org/2000/svg\" height=\"24px\"viewBox=\"0 0 24 24\"\n",
              "       width=\"24px\">\n",
              "    <path d=\"M0 0h24v24H0V0z\" fill=\"none\"/>\n",
              "    <path d=\"M18.56 5.44l.94 2.06.94-2.06 2.06-.94-2.06-.94-.94-2.06-.94 2.06-2.06.94zm-11 1L8.5 8.5l.94-2.06 2.06-.94-2.06-.94L8.5 2.5l-.94 2.06-2.06.94zm10 10l.94 2.06.94-2.06 2.06-.94-2.06-.94-.94-2.06-.94 2.06-2.06.94z\"/><path d=\"M17.41 7.96l-1.37-1.37c-.4-.4-.92-.59-1.43-.59-.52 0-1.04.2-1.43.59L10.3 9.45l-7.72 7.72c-.78.78-.78 2.05 0 2.83L4 21.41c.39.39.9.59 1.41.59.51 0 1.02-.2 1.41-.59l7.78-7.78 2.81-2.81c.8-.78.8-2.07 0-2.86zM5.41 20L4 18.59l7.72-7.72 1.47 1.35L5.41 20z\"/>\n",
              "  </svg>\n",
              "      </button>\n",
              "      \n",
              "  <style>\n",
              "    .colab-df-container {\n",
              "      display:flex;\n",
              "      flex-wrap:wrap;\n",
              "      gap: 12px;\n",
              "    }\n",
              "\n",
              "    .colab-df-convert {\n",
              "      background-color: #E8F0FE;\n",
              "      border: none;\n",
              "      border-radius: 50%;\n",
              "      cursor: pointer;\n",
              "      display: none;\n",
              "      fill: #1967D2;\n",
              "      height: 32px;\n",
              "      padding: 0 0 0 0;\n",
              "      width: 32px;\n",
              "    }\n",
              "\n",
              "    .colab-df-convert:hover {\n",
              "      background-color: #E2EBFA;\n",
              "      box-shadow: 0px 1px 2px rgba(60, 64, 67, 0.3), 0px 1px 3px 1px rgba(60, 64, 67, 0.15);\n",
              "      fill: #174EA6;\n",
              "    }\n",
              "\n",
              "    [theme=dark] .colab-df-convert {\n",
              "      background-color: #3B4455;\n",
              "      fill: #D2E3FC;\n",
              "    }\n",
              "\n",
              "    [theme=dark] .colab-df-convert:hover {\n",
              "      background-color: #434B5C;\n",
              "      box-shadow: 0px 1px 3px 1px rgba(0, 0, 0, 0.15);\n",
              "      filter: drop-shadow(0px 1px 2px rgba(0, 0, 0, 0.3));\n",
              "      fill: #FFFFFF;\n",
              "    }\n",
              "  </style>\n",
              "\n",
              "      <script>\n",
              "        const buttonEl =\n",
              "          document.querySelector('#df-83985564-21ec-4222-92bf-72c71369fe8e button.colab-df-convert');\n",
              "        buttonEl.style.display =\n",
              "          google.colab.kernel.accessAllowed ? 'block' : 'none';\n",
              "\n",
              "        async function convertToInteractive(key) {\n",
              "          const element = document.querySelector('#df-83985564-21ec-4222-92bf-72c71369fe8e');\n",
              "          const dataTable =\n",
              "            await google.colab.kernel.invokeFunction('convertToInteractive',\n",
              "                                                     [key], {});\n",
              "          if (!dataTable) return;\n",
              "\n",
              "          const docLinkHtml = 'Like what you see? Visit the ' +\n",
              "            '<a target=\"_blank\" href=https://colab.research.google.com/notebooks/data_table.ipynb>data table notebook</a>'\n",
              "            + ' to learn more about interactive tables.';\n",
              "          element.innerHTML = '';\n",
              "          dataTable['output_type'] = 'display_data';\n",
              "          await google.colab.output.renderOutput(dataTable, element);\n",
              "          const docLink = document.createElement('div');\n",
              "          docLink.innerHTML = docLinkHtml;\n",
              "          element.appendChild(docLink);\n",
              "        }\n",
              "      </script>\n",
              "    </div>\n",
              "  </div>\n",
              "  "
            ],
            "text/plain": [
              "                   Buys        Sells\n",
              "Date                                \n",
              "2019-01-29   105.598213          NaN\n",
              "2019-02-10          NaN   124.806488\n",
              "2019-04-25   154.459396          NaN\n",
              "2019-05-11          NaN   194.304337\n",
              "2019-07-11   268.704041          NaN\n",
              "2019-08-05          NaN   234.215027\n",
              "2019-08-14   186.607742          NaN\n",
              "2019-09-16          NaN   197.113174\n",
              "2019-10-23   162.402786          NaN\n",
              "2020-01-06          NaN   144.304153\n",
              "2020-03-12   112.347122          NaN\n",
              "2020-04-06          NaN   169.135880\n",
              "2020-09-05   335.260071          NaN\n",
              "2020-10-12          NaN   387.731262\n",
              "2021-02-25  1475.703735          NaN\n",
              "2021-04-02          NaN  2143.225586\n",
              "2021-05-19  2460.679199          NaN\n",
              "2021-07-30          NaN  2466.961426\n",
              "2021-09-20  2958.993408          NaN\n",
              "2021-10-20          NaN  4155.992188\n",
              "2021-11-18  4000.650879          NaN"
            ]
          },
          "metadata": {},
          "execution_count": 122
        }
      ]
    },
    {
      "cell_type": "code",
      "source": [
        "totalprofit = merged.shift(-1).Sells - merged.Buys"
      ],
      "metadata": {
        "id": "cEENUxyljJ4n"
      },
      "execution_count": 123,
      "outputs": []
    },
    {
      "cell_type": "code",
      "source": [
        "relprofits = (merged.shift(-1).Sells - merged.Buys)/merged.Buys"
      ],
      "metadata": {
        "id": "qcv2sXBFjcH3"
      },
      "execution_count": 124,
      "outputs": []
    },
    {
      "cell_type": "code",
      "source": [
        "relprofits.mean() * 100"
      ],
      "metadata": {
        "colab": {
          "base_uri": "https://localhost:8080/"
        },
        "id": "he2KD36XjelW",
        "outputId": "567e1f12-f17d-4411-91cd-8842473fa747"
      },
      "execution_count": 125,
      "outputs": [
        {
          "output_type": "execute_result",
          "data": {
            "text/plain": [
              "17.777725379908347"
            ]
          },
          "metadata": {},
          "execution_count": 125
        }
      ]
    },
    {
      "cell_type": "code",
      "source": [
        ""
      ],
      "metadata": {
        "id": "UAmaA3ZGjrTX"
      },
      "execution_count": null,
      "outputs": []
    }
  ]
}